{
 "cells": [
  {
   "cell_type": "markdown",
   "source": [
    "# Generative models\n",
    "---\n",
    "## Models, simulation, and degrees of belief\n",
    "\n",
    "One view of knowledge is that the mind maintains working models of parts of the world. ‘Model’ in the sense that it captures some of the structure in the world, but not all (and what it captures need not be exactly what is in the world—just what is useful). ‘Working’ in the sense that it can be used to simulate this part of the world, imagining what will follow from different initial conditions. As an example take the Plinko machine: a box with uniformly spaced pegs, with bins at the bottom. Into this box we can drop marbles.\n",
    "The plinko machine is a ‘working model’ for many physical processes in which many small perturbations accumulate—for instance a leaf falling from a tree. It is an approximation to these systems because we use a discrete grid (the pegs) and discrete bins. Yet it is useful as a model: for instance, we can ask where we expect a marble to end up depending on where we drop it in, by running the machine several times—simulating the outcome.\n",
    "\n",
    "Imagine that someone has dropped a marble into the plinko machine; before looking at the outcome, you can probably report how much you believe that the ball has landed in each possible bin. Indeed, if you run the plinko machine many times, you will see a shape emerge in the bins. The number of balls in a bin gives you some idea how much you should expect a new marble to end up there. This ‘shape of expected outcomes’ can be formalized as a probability distribution (described below). Indeed, there is an intimate connection between simulation, expectation or belief, and probability, which we explore in the rest of this section.\n",
    "\n",
    "There is one more thing to note about our Plinko machine above: we are using a computer program to simulate the simulation. Computers can be seen as universal simulators. How can we, clearly and precisely, describe the simulation we want a computer to do?\n"
   ],
   "metadata": {}
  },
  {
   "cell_type": "markdown",
   "source": [
    "## Building Generative Models\r\n",
    "\r\n",
    "We wish to describe in formal terms how to generate states of the world. That is, we wish to describe the causal process, or steps that unfold, leading to some potentially observable states. The key idea of this section is that these generative processes can be described as computations—computations that involve random choices to capture uncertainty about the process.\r\n",
    "\r\n",
    "Programming languages are formal systems for describing what (deterministic) computation a computer should do. Modern programming languages offer a wide variety of different ways to describe computation; each makes some processes simple to describe and others more complex. However, a key tenet of computer science is that all of these languages have the same fundamental power: any computation that can be described with one programming language can be described by another. (More technically this Church-Turing thesis posits that many specific computational systems capture the set of all effectively computable procedures. These are called universal systems.)\r\n",
    "\r\n",
    "The original book uses JavaScript language for all examples. We will translate the code to Julia using Gen library that extends it with pieces needed to describe probabilistic computation. The key idea is that we have primitive operations that describe not only deterministic functions (like and) but stochastic operations. For example, we wil use Bernoulli distribution:"
   ],
   "metadata": {}
  },
  {
   "cell_type": "code",
   "execution_count": null,
   "source": [
    "using Gen\n",
    "include(\"auxilery.jl\")\n",
    "p=0.5\n",
    "bernoulli(p)"
   ],
   "outputs": [],
   "metadata": {}
  },
  {
   "cell_type": "markdown",
   "source": [
    "Run this program a few times. You will get back a different sample on each execution. Also, notice the parentheses after Bernoulli, you should enter \"p\" parameter."
   ],
   "metadata": {}
  },
  {
   "cell_type": "markdown",
   "source": [
    "If you run the program many times, and collect the values in a histogram, you can see what a typical sample looks like: (edited) \n"
   ],
   "metadata": {}
  },
  {
   "cell_type": "code",
   "execution_count": null,
   "source": [
    "N=1000\r\n",
    "ys=[bernoulli(p) for _ in 1:N]\r\n",
    "ys[1:5]\r\n"
   ],
   "outputs": [],
   "metadata": {}
  },
  {
   "cell_type": "code",
   "execution_count": null,
   "source": [
    "viz(ys)"
   ],
   "outputs": [],
   "metadata": {}
  },
  {
   "cell_type": "markdown",
   "source": [
    "Here we want to sample 1000 Bernoulli random variables.\n",
    "We have used the `bar` function to visualize the results of calling the `bernoulli` function 1000 times. As you can see, the result is an approximately uniform distribution over `true` and `false`.\n",
    "\n",
    "Using `bernoulli`  distribution we can construct more complex expressions that describe more complicated sampling processes. For instance here we describe a process that samples a number adding up several samples (as we can see Julia translated boolean to 0,1)"
   ],
   "metadata": {}
  },
  {
   "cell_type": "code",
   "execution_count": null,
   "source": [
    "bernoulli(p)+bernoulli(p)+bernoulli(p)"
   ],
   "outputs": [],
   "metadata": {}
  },
  {
   "cell_type": "markdown",
   "source": [
    "What if we want to invoke this sampling process multiple times? We would like to construct a stochastic function that adds three random numbers each time it is called. We can use `function` to construct such complex stochastic functions from the primitive ones."
   ],
   "metadata": {}
  },
  {
   "cell_type": "code",
   "execution_count": null,
   "source": [
    "function sumFlips() \r\n",
    "    bernoulli(p)+bernoulli(p)+bernoulli(p)\r\n",
    "end"
   ],
   "outputs": [],
   "metadata": {}
  },
  {
   "cell_type": "code",
   "execution_count": null,
   "source": [
    "N=100\r\n",
    "ys=[sumFlips() for _ in 1:N]\r\n",
    "viz(ys)"
   ],
   "outputs": [],
   "metadata": {}
  },
  {
   "cell_type": "markdown",
   "source": [
    "A function expression with an empty argument list, `function() ... end`, is called a thunk: this is a function that takes no input arguments. If we apply a thunk (to no arguments!) we get a return value back. Complex functions can also have arguments. Here is a stochastic function that will only sometimes double its input:"
   ],
   "metadata": {}
  },
  {
   "cell_type": "code",
   "execution_count": null,
   "source": [
    "function noisyDouble(x::Number) \r\n",
    "     bernoulli(p) ? x+x : x \r\n",
    "end\r\n",
    "noisyDouble(3)"
   ],
   "outputs": [],
   "metadata": {}
  },
  {
   "cell_type": "markdown",
   "source": [
    "By using higher-order functions we can construct and manipulate complex sampling processes. We use the ternary operator `condition ? if-true : if-false` to induce hierarchy. A good example comes from coin flipping…"
   ],
   "metadata": {}
  },
  {
   "cell_type": "markdown",
   "source": [
    "### Example: Flipping Coins\r\n",
    "The following program defines a fair coin, and flips it 20 times:"
   ],
   "metadata": {}
  },
  {
   "cell_type": "code",
   "execution_count": null,
   "source": [
    "function faircoin()\r\n",
    "    bernoulli(p) ? 'h' : 't'\r\n",
    "end\r\n",
    "N=20\r\n",
    "ys=[faircoin() for _ in 1:N ]\r\n",
    "viz(ys)"
   ],
   "outputs": [],
   "metadata": {}
  },
  {
   "cell_type": "markdown",
   "source": [
    "This program defines a “trick” coin that comes up heads most of the time (95%), and flips it 20 times:"
   ],
   "metadata": {}
  },
  {
   "cell_type": "code",
   "execution_count": null,
   "source": [
    "function trickoin()\r\n",
    "    bernoulli(0.95) ? 'h' : 't'\r\n",
    "end\r\n",
    "N=20\r\n",
    "ys=[trickoin() for _ in 1:N ]\r\n",
    "viz(ys)"
   ],
   "outputs": [],
   "metadata": {}
  },
  {
   "cell_type": "markdown",
   "source": [
    "The higher-order function `make-coin` takes in a weight and outputs a function (a thunk) describing a coin with that weight. Then we can use `make-coin` to make the coins above, or others."
   ],
   "metadata": {}
  },
  {
   "cell_type": "code",
   "execution_count": null,
   "source": [
    "function makecoin(p::Float64)\r\n",
    "    function ()\r\n",
    "        bernoulli(p) ? 'h' : 't'\r\n",
    "    end    \r\n",
    "end\r\n",
    "faircoin1=makecoin(0.5)\r\n",
    "trickcoin1=makecoin(0.95)\r\n",
    "bentcoin1=makecoin(0.25)\r\n",
    "N=20\r\n",
    "counts=zeros(3,2)\r\n",
    "y1=[faircoin1()  for _ in 1:N ]\r\n",
    "y2=[trickcoin1()  for _ in 1:N ]\r\n",
    "y3=[bentcoin1()  for _ in 1:N ]\r\n",
    "groupedviz([y1,y2,y3],[\"faircoin\",\"trickcoin\",\"bentcoin\",\"faircoin\",\"trickcoin\",\"bentcoin\"],['h', 't'],3)"
   ],
   "outputs": [],
   "metadata": {}
  },
  {
   "cell_type": "markdown",
   "source": [
    "We can also define a higher-order function that takes a “coin” and “bends it”:\n"
   ],
   "metadata": {}
  },
  {
   "cell_type": "code",
   "execution_count": null,
   "source": [
    "function bend(coin)\r\n",
    "    function ()\r\n",
    "        coin() == 'h' ? makecoin(0.7)() : makecoin(0.1)()\r\n",
    "    end\r\n",
    "end\r\n",
    "bentcoin2=bend(faircoin1)\r\n",
    "N=100\r\n",
    "ys=[bentcoin2() for _ in 1:N]\r\n",
    "viz(ys)"
   ],
   "outputs": [],
   "metadata": {}
  },
  {
   "cell_type": "markdown",
   "source": [
    "Make sure you understand how the `bend` function works! Why are there an “extra” pair of parentheses after each `make-coin` statement?"
   ],
   "metadata": {}
  },
  {
   "cell_type": "markdown",
   "source": [
    "We want to visualize the number of heads we expect to see if we flip a weighted coin (weight = 0.8) 10 times. We’ll repeat this experiment 1000 times and then use `bar` to visualize the results. Try varying the coin weight or the number of repetitions to see how the expected distribution changes.\r\n"
   ],
   "metadata": {}
  },
  {
   "cell_type": "code",
   "execution_count": null,
   "source": [
    "coin=makecoin(0.8)\r\n",
    "ys=[sum(map(x -> x == 'h' ? 1 : 0, [coin()  for _ in 1:10])) for _ in 1:1000]\r\n",
    "viz(ys)"
   ],
   "outputs": [],
   "metadata": {}
  },
  {
   "cell_type": "markdown",
   "source": [
    "### Example: Causal Models in Medical Diagnosis\r\n",
    "Generative knowledge is often causal knowledge that describes how events or states of the world are related to each other. As an example of how causal knowledge can be encoded in Julia expressions, consider a simplified medical scenario:"
   ],
   "metadata": {}
  },
  {
   "cell_type": "code",
   "execution_count": null,
   "source": [
    "lungCancer = bernoulli(0.01)\r\n",
    "cold = bernoulli(0.2)\r\n",
    "cough = cold || lungCancer"
   ],
   "outputs": [],
   "metadata": {}
  },
  {
   "cell_type": "markdown",
   "source": [
    "This program models the diseases and symptoms of a patient in a doctor’s office. It first specifies the base rates of two diseases the patient could have: lung cancer is rare while a cold is common, and there is an independent chance of having each disease. The program then specifies a process for generating a common symptom of these diseases – an effect with two possible causes: The patient coughs if they have a cold or lung cancer (or both).\r\n",
    "Here is a more complex version of this causal model:"
   ],
   "metadata": {}
  },
  {
   "cell_type": "code",
   "execution_count": null,
   "source": [
    "lungCancer = bernoulli(0.01)\r\n",
    "TB = bernoulli(0.005)\r\n",
    "stomachFlu = bernoulli(0.1)\r\n",
    "cold = bernoulli(0.2)\r\n",
    "other = bernoulli(0.1)\r\n",
    "\r\n",
    "cough = \r\n",
    "    (cold && bernoulli(0.5)) ||\r\n",
    "    (lungCancer && bernoulli(0.3)) ||\r\n",
    "    (TB && bernoulli(0.7)) ||\r\n",
    "    (other && bernoulli(0.01))\r\n",
    "\r\n",
    "fever = \r\n",
    "    (cold && bernoulli(0.3)) ||\r\n",
    "    (stomachFlu && bernoulli(0.5)) ||\r\n",
    "    (TB && bernoulli(0.1)) ||\r\n",
    "    (other && bernoulli(0.01))\r\n",
    "\r\n",
    "chestPain = \r\n",
    "    (lungCancer && bernoulli(0.5)) ||\r\n",
    "    (TB && bernoulli(0.5)) ||\r\n",
    "    (other && bernoulli(0.01))\r\n",
    "\r\n",
    "shortnessOfBreath = \r\n",
    "    (lungCancer && bernoulli(0.5)) ||\r\n",
    "    (TB && bernoulli(0.2)) ||\r\n",
    "    (other && bernoulli(0.01))\r\n",
    "\r\n",
    "symptoms = Dict([\r\n",
    "  \"cough\" => cough,\r\n",
    "  \"fever\" => fever,\r\n",
    "  \"chestPain\" => chestPain,\r\n",
    "  \"shortnessOfBreath\" => shortnessOfBreath\r\n",
    "])\r\n",
    "\r\n",
    "symptoms"
   ],
   "outputs": [],
   "metadata": {}
  },
  {
   "cell_type": "markdown",
   "source": [
    "Now there are four possible diseases and four symptoms. Each disease causes a different pattern of symptoms. The causal relations are now probabilistic: Only some patients with a cold have a cough (50%), or a fever (30%). There is also a catch-all disease category “other”, which has a low probability of causing any symptom. Noisy logical functions—functions built from and `(&&)`, or `(||)`, and `bernoulli`—provide a simple but expressive way to describe probabilistic causal dependencies between Boolean (true-false valued) variables.\r\n",
    "When you run the above code, the program generates a list of symptoms for a hypothetical patient. Most likely all the symptoms will be false, as (thankfully) each of these diseases is rare. Experiment with running the program multiple times. Now try modifying the statement for one of the diseases, setting it to be true, to simulate only patients known to have that disease. For example, replace `lungCancer = bernouli(0.01)` with  `lungCancer = true`. Run the program several times to observe the characteristic patterns of symptoms for that disease."
   ],
   "metadata": {}
  },
  {
   "cell_type": "markdown",
   "source": [
    "### Prediction, Simulation, and Probabilities\r\n",
    "Suppose that we flip two fair coins, and return the list of their values:"
   ],
   "metadata": {}
  },
  {
   "cell_type": "code",
   "execution_count": null,
   "source": [
    "[bernoulli(0.5),bernoulli(0.5)]"
   ],
   "outputs": [],
   "metadata": {}
  },
  {
   "cell_type": "markdown",
   "source": [
    "How can we predict the return value of this program? For instance, how likely is it that we will see `[1, 0]`? A probability is a number between 0 and 1 that expresses the answer to such a question: it is a degree of belief that we will see a given outcome, such as `[1, 0]`. The probability of an event A (such as the above program returning `[1, 0]`) is usually written as: `P(A)`.\r\n",
    "A probability distribution is the probability of each possible outcome of an event. For instance, we can examine the probability distribution on values that can be returned by the above program by sampling many times and examining the histogram of return values:"
   ],
   "metadata": {}
  },
  {
   "cell_type": "code",
   "execution_count": null,
   "source": [
    "function radomPair()    \r\n",
    "    [bernoulli(0.5),bernoulli(0.5)]\r\n",
    "    \r\n",
    "end\r\n",
    "N=100\r\n",
    "ys=[radomPair()  for _ in 1:N ]\r\n",
    "viz(ys)"
   ],
   "outputs": [],
   "metadata": {}
  },
  {
   "cell_type": "markdown",
   "source": [
    "We see by examining this histogram that `[1, 0]` comes out about 25% of the time. We may define the probability of a return value to be the fraction of times (in the long run) that this value is returned from evaluating the program – then the probability of `[1, 0]` from the above program is 0.25."
   ],
   "metadata": {}
  },
  {
   "cell_type": "markdown",
   "source": [
    "### Generative functions and distribution in Gen\r\n",
    "An important idea is that `bernoulli` can be thought of in two different ways. From one perspective,`bernoulli` is a procedure which returns a sample from a fair coin. That is, it’s a sampler or simulator. As we saw above we can build more complex samplers by building more complex functions. From another perspective, `bernoulli` is itself a characterization of the probability distribution over `true` and `false`. In order to make this view explicit, Gen has a special type of distribution objects. These are objects that can be sampled from using the `simulate` operator, and that can explicitly return the probability of a return value using the `get_score` method. Distributions are made by a family of distribution constructors:\r\n"
   ],
   "metadata": {}
  },
  {
   "cell_type": "code",
   "execution_count": null,
   "source": [
    "using Distributions, Gen\r\n",
    "@gen function foo()\r\n",
    "    @trace(bernoulli(0.5), :b)\r\n",
    "end\r\n",
    "#sample from it with the simulate operator:\r\n",
    "trace = simulate(foo, ())\r\n",
    "println(trace[:b])\r\n",
    "#compute the log-probability of sampled data:\r\n",
    "println(Gen.get_score(trace))\r\n",
    "#visualize the distribution using julia native Bernoulli sampler:\r\n",
    "plot(Bernoulli(0.5), lw=50)"
   ],
   "outputs": [],
   "metadata": {}
  },
  {
   "cell_type": "markdown",
   "source": [
    "There are many other distribution constructors built into Gen listed [here](https://www.gen.dev/stable/ref/distributions/). For instance the  Normal distribution is a very common distribution over real numbers:"
   ],
   "metadata": {}
  },
  {
   "cell_type": "code",
   "execution_count": null,
   "source": [
    "@gen function goo()\r\n",
    "    @trace(normal(0, 1) , :g)\r\n",
    "end\r\n",
    "#sample from it with the simulate operator:\r\n",
    "trace = simulate(goo, ())\r\n",
    "println(trace[:g])\r\n",
    "\r\n",
    "#can also use the sampling helper (note lower-case name):\r\n",
    "println(normal(0,1))\r\n",
    "\r\n",
    "#and build more complex processes!\r\n",
    "hoo = () -> normal(0,1) * normal(0,1) \r\n",
    "hoo()\r\n"
   ],
   "outputs": [],
   "metadata": {}
  },
  {
   "cell_type": "markdown",
   "source": [
    "### Constructing complex generative function:\r\n",
    "Above we described how complex sampling processes can be built as complex functions, and how these sampling processes implicitly specify a distribution on return values (which we examined by sampling many times and building a histogram). Forward sampeling gives us a way to visualize the distribution over observable or latent values:"
   ],
   "metadata": {}
  },
  {
   "cell_type": "code",
   "execution_count": null,
   "source": [
    "@gen function complexDist()\r\n",
    "    a=@trace(normal(0, 1), :a)\r\n",
    "    b=@trace(normal(0, 1), :b)\r\n",
    "    a*b\r\n",
    "end\r\n",
    "traces=[simulate(complexDist,()) for _ in 1:1000]\r\n",
    "ret_values=map(x -> Gen.get_retval(x),traces)\r\n",
    "\r\n",
    "p = plot(ret_values, seriestype = :density, xlim = (minimum(ret_values),maximum(ret_values)), legend = :best, w = 2, c = :blue)\r\n"
   ],
   "outputs": [],
   "metadata": {}
  },
  {
   "cell_type": "markdown",
   "source": [
    "Note that the trace returned by `simualte`  describes the random choices that were made in the sampeling process\r\n",
    "\r\n",
    "Thus `simulate` lets us sample from a generative function."
   ],
   "metadata": {}
  },
  {
   "cell_type": "markdown",
   "source": [
    "## The rules of probability\r\n",
    "We can derive marginal distributions with the “rules of probability”. This is intractable for complex processes, but can help us build intuition for how distributions work.\r\n",
    "### Product Rule\r\n",
    "In the above example we take three steps to compute the output value: we sample from the first `bernoulli()`, then from the second, then we make a list from these values. To make this more clear let us re-write the program as:"
   ],
   "metadata": {}
  },
  {
   "cell_type": "code",
   "execution_count": null,
   "source": [
    "a=bernoulli(0.5)\r\n",
    "b=bernoulli(0.5)\r\n",
    "c=[a,b]"
   ],
   "outputs": [],
   "metadata": {}
  },
  {
   "cell_type": "markdown",
   "source": [
    "We can directly observe (as we did above) that the probability of `true` for `A` is 0.5, and the probability of `false` from `B` is 0.5. Can we use these two probabilities to arrive at the probability of 0.25 for the overall outcome `C` = `[true, false]`? Yes, using the product rule of probabilities: The probability of two random choices is the product of their individual probabilities. The probability of several random choices together is often called the joint probability and written as *P(A,B)*. Since the first and second random choices must each have their specified values in order to get `[true, false]` in the example, the joint probability is their product: 0.25.\r\n",
    "We must be careful when applying this rule, since the probability of a choice can depend on the probabilities of previous choices. For instance, we can visualize the the exact probability of `[true, false]` resulting from this program:"
   ],
   "metadata": {}
  },
  {
   "cell_type": "code",
   "execution_count": null,
   "source": [
    "@gen function c()\r\n",
    "    a=@trace(bernoulli(0.5), :a)\r\n",
    "    b=@trace(bernoulli(a ? 0.3 : 0.7), :b)\r\n",
    "    (a,b)\r\n",
    "end\r\n",
    "values=[simulate(c,()) for _ in 1:1000]\r\n",
    "a0=map(x -> get_retval(x)[:2],filter(x -> get_retval(x)[:1]==0, values))\r\n",
    "a1=map(x -> get_retval(x)[:2],filter(x -> get_retval(x)[:1]==1, values))\r\n",
    "groupedviz([a0,a1],[\"A=false\",\"A=true\",\"A=false\",\"A=true\"],[false,true],2,\"\",\"\",\"\",\"B\")\r\n"
   ],
   "outputs": [],
   "metadata": {}
  },
  {
   "cell_type": "markdown",
   "source": [
    "In general, the joint probability of two random choices `A` and `B` made sequentially, in that order, can be written as *P(A,B)=P(A)P(B|A)*. This is read as the product of the probability of `A` and the probability of *\"B given A\"*, or *\"B conditioned on A\"*. That is, the probability of making choice `B` given that choice `A` has been made in a certain way. Only when the second choice does not depend on (or \"look at\") the first choice does this expression reduce to a simple product of the probabilities of each choice individually: $P(A,B)=P(A)P(B)$.\r\n",
    "What is the relation between $P(A,B)$ and $P(B,A)$, the joint probability of the same choices written in the opposite order? The only logically consistent definitions of probability require that these two probabilities be equal, so $P(A)P(B|A)=P(B)P(A|B)$. This is the basis of Bayes' theorem, which we will encounter later."
   ],
   "metadata": {}
  },
  {
   "cell_type": "markdown",
   "source": [
    "### Sum Rule\r\n",
    "Now let's consider an example where we can't determine from the overall return value the sequence of random choices that were made:"
   ],
   "metadata": {}
  },
  {
   "cell_type": "code",
   "execution_count": null,
   "source": [
    "bernoulli(0.5) || bernoulli(0.5)\r\n"
   ],
   "outputs": [],
   "metadata": {}
  },
  {
   "cell_type": "markdown",
   "source": [
    "We can sample from this program and determine that the probability of returning `true` is about 0.75.\r\n",
    "We cannot simply use the product rule to determine this probability because we don't know the sequence of random choices that led to this return value. However we can notice that the program will return true if the two component choices are `[true, true]`, or `[true, false]`, or `[false, true]`. To combine these possibilities we use another rule for probabilities: If there are two alternative sequences of choices that lead to the same return value, the probability of this return value is the sum of the probabilities of the sequences. We can write this using probability notation as: *$P(A)$ = $\\sum_{\\substack{B}} P(A, B)$*, where we view A as the final value and B as a random choice on the way to that value. Using the product rule we can determine that the probability in the example above is 0.25 for each sequence that leads to return value `true`, then, by the sum rule, the probability of `true` is 0.25+0.25+0.25=0.75.\r\n",
    "Using the sum rule to compute the probability of a final value is called is sometimes called *marginalization*, because the final distribution is the marginal distribution on final values. From the point of view of sampling processes marginalization is simply ignoring (or not looking at) intermediate random values that are created on the way to a final return value. From the point of view of directly computing probabilities, marginalization is summing over all the possible \"histories\" that could lead to a return value. Putting the product and sum rules together, the marginal probability of return values from a program that we have explored above is the sum over sampling histories of the product over choice probabilities—a computation that can quickly grow unmanageable, but can be approximated by sampling."
   ],
   "metadata": {}
  },
  {
   "cell_type": "markdown",
   "source": [
    "## Stochastic recursion\r\n",
    "Recursive functions are a powerful way to structure computation in deterministic systems. In Gen it is possible to have a *stochastic* recursion that randomly decides whether to stop. For example, the *geometric distribution* is a probability distribution over the non-negative integers. We imagine flipping a (weighted) coin, returning N−1 if the first `true` is on the Nth flip (that is, we return the number of times we get `false` before our first `true`):"
   ],
   "metadata": {}
  },
  {
   "cell_type": "code",
   "execution_count": 19,
   "source": [
    "@gen function geo(p)\r\n",
    "    @trace(bernoulli(p),:b) ? 0 : 1 + @trace(geo(p),:g)\r\n",
    "end\r\n",
    "\r\n",
    "data=[get_retval(simulate(geo,(0.6,))) for _ in 1:1000]\r\n",
    "viz(data)"
   ],
   "outputs": [
    {
     "output_type": "execute_result",
     "data": {
      "image/svg+xml": "<?xml version=\"1.0\" encoding=\"utf-8\"?>\n<svg xmlns=\"http://www.w3.org/2000/svg\" xmlns:xlink=\"http://www.w3.org/1999/xlink\" width=\"600\" height=\"400\" viewBox=\"0 0 2400 1600\">\n<defs>\n  <clipPath id=\"clip410\">\n    <rect x=\"0\" y=\"0\" width=\"2400\" height=\"1600\"/>\n  </clipPath>\n</defs>\n<path clip-path=\"url(#clip410)\" d=\"\nM0 1600 L2400 1600 L2400 0 L0 0  Z\n  \" fill=\"#ffffff\" fill-rule=\"evenodd\" fill-opacity=\"1\"/>\n<defs>\n  <clipPath id=\"clip411\">\n    <rect x=\"480\" y=\"0\" width=\"1681\" height=\"1600\"/>\n  </clipPath>\n</defs>\n<path clip-path=\"url(#clip410)\" d=\"\nM219.866 1486.45 L2352.76 1486.45 L2352.76 47.2441 L219.866 47.2441  Z\n  \" fill=\"#ffffff\" fill-rule=\"evenodd\" fill-opacity=\"1\"/>\n<defs>\n  <clipPath id=\"clip412\">\n    <rect x=\"219\" y=\"47\" width=\"2134\" height=\"1440\"/>\n  </clipPath>\n</defs>\n<polyline clip-path=\"url(#clip412)\" style=\"stroke:#000000; stroke-linecap:butt; stroke-linejoin:round; stroke-width:2; stroke-opacity:0.1; fill:none\" points=\"\n  468.094,1486.45 468.094,47.2441 \n  \"/>\n<polyline clip-path=\"url(#clip412)\" style=\"stroke:#000000; stroke-linecap:butt; stroke-linejoin:round; stroke-width:2; stroke-opacity:0.1; fill:none\" points=\"\n  795.381,1486.45 795.381,47.2441 \n  \"/>\n<polyline clip-path=\"url(#clip412)\" style=\"stroke:#000000; stroke-linecap:butt; stroke-linejoin:round; stroke-width:2; stroke-opacity:0.1; fill:none\" points=\"\n  1122.67,1486.45 1122.67,47.2441 \n  \"/>\n<polyline clip-path=\"url(#clip412)\" style=\"stroke:#000000; stroke-linecap:butt; stroke-linejoin:round; stroke-width:2; stroke-opacity:0.1; fill:none\" points=\"\n  1449.95,1486.45 1449.95,47.2441 \n  \"/>\n<polyline clip-path=\"url(#clip412)\" style=\"stroke:#000000; stroke-linecap:butt; stroke-linejoin:round; stroke-width:2; stroke-opacity:0.1; fill:none\" points=\"\n  1777.24,1486.45 1777.24,47.2441 \n  \"/>\n<polyline clip-path=\"url(#clip412)\" style=\"stroke:#000000; stroke-linecap:butt; stroke-linejoin:round; stroke-width:2; stroke-opacity:0.1; fill:none\" points=\"\n  2104.53,1486.45 2104.53,47.2441 \n  \"/>\n<polyline clip-path=\"url(#clip410)\" style=\"stroke:#000000; stroke-linecap:butt; stroke-linejoin:round; stroke-width:4; stroke-opacity:1; fill:none\" points=\"\n  219.866,1486.45 2352.76,1486.45 \n  \"/>\n<polyline clip-path=\"url(#clip410)\" style=\"stroke:#000000; stroke-linecap:butt; stroke-linejoin:round; stroke-width:4; stroke-opacity:1; fill:none\" points=\"\n  468.094,1486.45 468.094,1469.18 \n  \"/>\n<polyline clip-path=\"url(#clip410)\" style=\"stroke:#000000; stroke-linecap:butt; stroke-linejoin:round; stroke-width:4; stroke-opacity:1; fill:none\" points=\"\n  795.381,1486.45 795.381,1469.18 \n  \"/>\n<polyline clip-path=\"url(#clip410)\" style=\"stroke:#000000; stroke-linecap:butt; stroke-linejoin:round; stroke-width:4; stroke-opacity:1; fill:none\" points=\"\n  1122.67,1486.45 1122.67,1469.18 \n  \"/>\n<polyline clip-path=\"url(#clip410)\" style=\"stroke:#000000; stroke-linecap:butt; stroke-linejoin:round; stroke-width:4; stroke-opacity:1; fill:none\" points=\"\n  1449.95,1486.45 1449.95,1469.18 \n  \"/>\n<polyline clip-path=\"url(#clip410)\" style=\"stroke:#000000; stroke-linecap:butt; stroke-linejoin:round; stroke-width:4; stroke-opacity:1; fill:none\" points=\"\n  1777.24,1486.45 1777.24,1469.18 \n  \"/>\n<polyline clip-path=\"url(#clip410)\" style=\"stroke:#000000; stroke-linecap:butt; stroke-linejoin:round; stroke-width:4; stroke-opacity:1; fill:none\" points=\"\n  2104.53,1486.45 2104.53,1469.18 \n  \"/>\n<path clip-path=\"url(#clip410)\" d=\"M468.094 1515.64 Q464.483 1515.64 462.654 1519.2 Q460.848 1522.75 460.848 1529.87 Q460.848 1536.98 462.654 1540.55 Q464.483 1544.09 468.094 1544.09 Q471.728 1544.09 473.534 1540.55 Q475.362 1536.98 475.362 1529.87 Q475.362 1522.75 473.534 1519.2 Q471.728 1515.64 468.094 1515.64 M468.094 1511.93 Q473.904 1511.93 476.959 1516.54 Q480.038 1521.12 480.038 1529.87 Q480.038 1538.6 476.959 1543.21 Q473.904 1547.79 468.094 1547.79 Q462.284 1547.79 459.205 1543.21 Q456.149 1538.6 456.149 1529.87 Q456.149 1521.12 459.205 1516.54 Q462.284 1511.93 468.094 1511.93 Z\" fill=\"#000000\" fill-rule=\"evenodd\" fill-opacity=\"1\" /><path clip-path=\"url(#clip410)\" d=\"M785.763 1543.18 L793.402 1543.18 L793.402 1516.82 L785.091 1518.49 L785.091 1514.23 L793.355 1512.56 L798.031 1512.56 L798.031 1543.18 L805.67 1543.18 L805.67 1547.12 L785.763 1547.12 L785.763 1543.18 Z\" fill=\"#000000\" fill-rule=\"evenodd\" fill-opacity=\"1\" /><path clip-path=\"url(#clip410)\" d=\"M1117.32 1543.18 L1133.64 1543.18 L1133.64 1547.12 L1111.7 1547.12 L1111.7 1543.18 Q1114.36 1540.43 1118.94 1535.8 Q1123.55 1531.15 1124.73 1529.81 Q1126.97 1527.28 1127.85 1525.55 Q1128.76 1523.79 1128.76 1522.1 Q1128.76 1519.34 1126.81 1517.61 Q1124.89 1515.87 1121.79 1515.87 Q1119.59 1515.87 1117.14 1516.63 Q1114.7 1517.4 1111.93 1518.95 L1111.93 1514.23 Q1114.75 1513.09 1117.2 1512.51 Q1119.66 1511.93 1121.7 1511.93 Q1127.07 1511.93 1130.26 1514.62 Q1133.45 1517.31 1133.45 1521.8 Q1133.45 1523.93 1132.64 1525.85 Q1131.86 1527.74 1129.75 1530.34 Q1129.17 1531.01 1126.07 1534.23 Q1122.97 1537.42 1117.32 1543.18 Z\" fill=\"#000000\" fill-rule=\"evenodd\" fill-opacity=\"1\" /><path clip-path=\"url(#clip410)\" d=\"M1454.2 1528.49 Q1457.56 1529.2 1459.43 1531.47 Q1461.33 1533.74 1461.33 1537.07 Q1461.33 1542.19 1457.81 1544.99 Q1454.29 1547.79 1447.81 1547.79 Q1445.64 1547.79 1443.32 1547.35 Q1441.03 1546.93 1438.58 1546.08 L1438.58 1541.56 Q1440.52 1542.7 1442.84 1543.28 Q1445.15 1543.86 1447.67 1543.86 Q1452.07 1543.86 1454.36 1542.12 Q1456.68 1540.38 1456.68 1537.07 Q1456.68 1534.02 1454.53 1532.31 Q1452.4 1530.57 1448.58 1530.57 L1444.55 1530.57 L1444.55 1526.73 L1448.76 1526.73 Q1452.21 1526.73 1454.04 1525.36 Q1455.87 1523.97 1455.87 1521.38 Q1455.87 1518.72 1453.97 1517.31 Q1452.1 1515.87 1448.58 1515.87 Q1446.66 1515.87 1444.46 1516.29 Q1442.26 1516.7 1439.62 1517.58 L1439.62 1513.42 Q1442.28 1512.68 1444.6 1512.31 Q1446.93 1511.93 1448.99 1511.93 Q1454.32 1511.93 1457.42 1514.37 Q1460.52 1516.77 1460.52 1520.89 Q1460.52 1523.76 1458.88 1525.75 Q1457.23 1527.72 1454.2 1528.49 Z\" fill=\"#000000\" fill-rule=\"evenodd\" fill-opacity=\"1\" /><path clip-path=\"url(#clip410)\" d=\"M1780.25 1516.63 L1768.45 1535.08 L1780.25 1535.08 L1780.25 1516.63 M1779.02 1512.56 L1784.9 1512.56 L1784.9 1535.08 L1789.83 1535.08 L1789.83 1538.97 L1784.9 1538.97 L1784.9 1547.12 L1780.25 1547.12 L1780.25 1538.97 L1764.65 1538.97 L1764.65 1534.46 L1779.02 1512.56 Z\" fill=\"#000000\" fill-rule=\"evenodd\" fill-opacity=\"1\" /><path clip-path=\"url(#clip410)\" d=\"M2094.81 1512.56 L2113.16 1512.56 L2113.16 1516.5 L2099.09 1516.5 L2099.09 1524.97 Q2100.11 1524.62 2101.13 1524.46 Q2102.14 1524.27 2103.16 1524.27 Q2108.95 1524.27 2112.33 1527.44 Q2115.71 1530.62 2115.71 1536.03 Q2115.71 1541.61 2112.24 1544.71 Q2108.76 1547.79 2102.45 1547.79 Q2100.27 1547.79 2098 1547.42 Q2095.76 1547.05 2093.35 1546.31 L2093.35 1541.61 Q2095.43 1542.74 2097.65 1543.3 Q2099.88 1543.86 2102.35 1543.86 Q2106.36 1543.86 2108.7 1541.75 Q2111.03 1539.64 2111.03 1536.03 Q2111.03 1532.42 2108.7 1530.31 Q2106.36 1528.21 2102.35 1528.21 Q2100.48 1528.21 2098.6 1528.62 Q2096.75 1529.04 2094.81 1529.92 L2094.81 1512.56 Z\" fill=\"#000000\" fill-rule=\"evenodd\" fill-opacity=\"1\" /><polyline clip-path=\"url(#clip412)\" style=\"stroke:#000000; stroke-linecap:butt; stroke-linejoin:round; stroke-width:2; stroke-opacity:0.1; fill:none\" points=\"\n  219.866,1445.72 2352.76,1445.72 \n  \"/>\n<polyline clip-path=\"url(#clip412)\" style=\"stroke:#000000; stroke-linecap:butt; stroke-linejoin:round; stroke-width:2; stroke-opacity:0.1; fill:none\" points=\"\n  219.866,1209.59 2352.76,1209.59 \n  \"/>\n<polyline clip-path=\"url(#clip412)\" style=\"stroke:#000000; stroke-linecap:butt; stroke-linejoin:round; stroke-width:2; stroke-opacity:0.1; fill:none\" points=\"\n  219.866,973.459 2352.76,973.459 \n  \"/>\n<polyline clip-path=\"url(#clip412)\" style=\"stroke:#000000; stroke-linecap:butt; stroke-linejoin:round; stroke-width:2; stroke-opacity:0.1; fill:none\" points=\"\n  219.866,737.33 2352.76,737.33 \n  \"/>\n<polyline clip-path=\"url(#clip412)\" style=\"stroke:#000000; stroke-linecap:butt; stroke-linejoin:round; stroke-width:2; stroke-opacity:0.1; fill:none\" points=\"\n  219.866,501.201 2352.76,501.201 \n  \"/>\n<polyline clip-path=\"url(#clip412)\" style=\"stroke:#000000; stroke-linecap:butt; stroke-linejoin:round; stroke-width:2; stroke-opacity:0.1; fill:none\" points=\"\n  219.866,265.073 2352.76,265.073 \n  \"/>\n<polyline clip-path=\"url(#clip410)\" style=\"stroke:#000000; stroke-linecap:butt; stroke-linejoin:round; stroke-width:4; stroke-opacity:1; fill:none\" points=\"\n  219.866,1486.45 219.866,47.2441 \n  \"/>\n<polyline clip-path=\"url(#clip410)\" style=\"stroke:#000000; stroke-linecap:butt; stroke-linejoin:round; stroke-width:4; stroke-opacity:1; fill:none\" points=\"\n  219.866,1445.72 245.461,1445.72 \n  \"/>\n<polyline clip-path=\"url(#clip410)\" style=\"stroke:#000000; stroke-linecap:butt; stroke-linejoin:round; stroke-width:4; stroke-opacity:1; fill:none\" points=\"\n  219.866,1209.59 245.461,1209.59 \n  \"/>\n<polyline clip-path=\"url(#clip410)\" style=\"stroke:#000000; stroke-linecap:butt; stroke-linejoin:round; stroke-width:4; stroke-opacity:1; fill:none\" points=\"\n  219.866,973.459 245.461,973.459 \n  \"/>\n<polyline clip-path=\"url(#clip410)\" style=\"stroke:#000000; stroke-linecap:butt; stroke-linejoin:round; stroke-width:4; stroke-opacity:1; fill:none\" points=\"\n  219.866,737.33 245.461,737.33 \n  \"/>\n<polyline clip-path=\"url(#clip410)\" style=\"stroke:#000000; stroke-linecap:butt; stroke-linejoin:round; stroke-width:4; stroke-opacity:1; fill:none\" points=\"\n  219.866,501.201 245.461,501.201 \n  \"/>\n<polyline clip-path=\"url(#clip410)\" style=\"stroke:#000000; stroke-linecap:butt; stroke-linejoin:round; stroke-width:4; stroke-opacity:1; fill:none\" points=\"\n  219.866,265.073 245.461,265.073 \n  \"/>\n<path clip-path=\"url(#clip410)\" d=\"M126.691 1431.51 Q123.08 1431.51 121.251 1435.08 Q119.445 1438.62 119.445 1445.75 Q119.445 1452.86 121.251 1456.42 Q123.08 1459.96 126.691 1459.96 Q130.325 1459.96 132.13 1456.42 Q133.959 1452.86 133.959 1445.75 Q133.959 1438.62 132.13 1435.08 Q130.325 1431.51 126.691 1431.51 M126.691 1427.81 Q132.501 1427.81 135.556 1432.42 Q138.635 1437 138.635 1445.75 Q138.635 1454.48 135.556 1459.08 Q132.501 1463.67 126.691 1463.67 Q120.88 1463.67 117.802 1459.08 Q114.746 1454.48 114.746 1445.75 Q114.746 1437 117.802 1432.42 Q120.88 1427.81 126.691 1427.81 Z\" fill=\"#000000\" fill-rule=\"evenodd\" fill-opacity=\"1\" /><path clip-path=\"url(#clip410)\" d=\"M146.853 1457.12 L151.737 1457.12 L151.737 1463 L146.853 1463 L146.853 1457.12 Z\" fill=\"#000000\" fill-rule=\"evenodd\" fill-opacity=\"1\" /><path clip-path=\"url(#clip410)\" d=\"M171.922 1431.51 Q168.311 1431.51 166.482 1435.08 Q164.677 1438.62 164.677 1445.75 Q164.677 1452.86 166.482 1456.42 Q168.311 1459.96 171.922 1459.96 Q175.556 1459.96 177.362 1456.42 Q179.19 1452.86 179.19 1445.75 Q179.19 1438.62 177.362 1435.08 Q175.556 1431.51 171.922 1431.51 M171.922 1427.81 Q177.732 1427.81 180.788 1432.42 Q183.866 1437 183.866 1445.75 Q183.866 1454.48 180.788 1459.08 Q177.732 1463.67 171.922 1463.67 Q166.112 1463.67 163.033 1459.08 Q159.978 1454.48 159.978 1445.75 Q159.978 1437 163.033 1432.42 Q166.112 1427.81 171.922 1427.81 Z\" fill=\"#000000\" fill-rule=\"evenodd\" fill-opacity=\"1\" /><path clip-path=\"url(#clip410)\" d=\"M127.917 1195.39 Q124.306 1195.39 122.478 1198.95 Q120.672 1202.49 120.672 1209.62 Q120.672 1216.73 122.478 1220.29 Q124.306 1223.83 127.917 1223.83 Q131.552 1223.83 133.357 1220.29 Q135.186 1216.73 135.186 1209.62 Q135.186 1202.49 133.357 1198.95 Q131.552 1195.39 127.917 1195.39 M127.917 1191.68 Q133.728 1191.68 136.783 1196.29 Q139.862 1200.87 139.862 1209.62 Q139.862 1218.35 136.783 1222.96 Q133.728 1227.54 127.917 1227.54 Q122.107 1227.54 119.029 1222.96 Q115.973 1218.35 115.973 1209.62 Q115.973 1200.87 119.029 1196.29 Q122.107 1191.68 127.917 1191.68 Z\" fill=\"#000000\" fill-rule=\"evenodd\" fill-opacity=\"1\" /><path clip-path=\"url(#clip410)\" d=\"M148.079 1220.99 L152.964 1220.99 L152.964 1226.87 L148.079 1226.87 L148.079 1220.99 Z\" fill=\"#000000\" fill-rule=\"evenodd\" fill-opacity=\"1\" /><path clip-path=\"url(#clip410)\" d=\"M163.959 1222.93 L171.598 1222.93 L171.598 1196.57 L163.288 1198.23 L163.288 1193.97 L171.552 1192.31 L176.227 1192.31 L176.227 1222.93 L183.866 1222.93 L183.866 1226.87 L163.959 1226.87 L163.959 1222.93 Z\" fill=\"#000000\" fill-rule=\"evenodd\" fill-opacity=\"1\" /><path clip-path=\"url(#clip410)\" d=\"M128.288 959.257 Q124.677 959.257 122.848 962.822 Q121.043 966.364 121.043 973.493 Q121.043 980.6 122.848 984.164 Q124.677 987.706 128.288 987.706 Q131.922 987.706 133.728 984.164 Q135.556 980.6 135.556 973.493 Q135.556 966.364 133.728 962.822 Q131.922 959.257 128.288 959.257 M128.288 955.554 Q134.098 955.554 137.154 960.16 Q140.232 964.743 140.232 973.493 Q140.232 982.22 137.154 986.826 Q134.098 991.41 128.288 991.41 Q122.478 991.41 119.399 986.826 Q116.343 982.22 116.343 973.493 Q116.343 964.743 119.399 960.16 Q122.478 955.554 128.288 955.554 Z\" fill=\"#000000\" fill-rule=\"evenodd\" fill-opacity=\"1\" /><path clip-path=\"url(#clip410)\" d=\"M148.45 984.859 L153.334 984.859 L153.334 990.739 L148.45 990.739 L148.45 984.859 Z\" fill=\"#000000\" fill-rule=\"evenodd\" fill-opacity=\"1\" /><path clip-path=\"url(#clip410)\" d=\"M167.547 986.803 L183.866 986.803 L183.866 990.739 L161.922 990.739 L161.922 986.803 Q164.584 984.049 169.167 979.419 Q173.774 974.766 174.954 973.424 Q177.2 970.901 178.079 969.165 Q178.982 967.405 178.982 965.715 Q178.982 962.961 177.038 961.225 Q175.116 959.489 172.014 959.489 Q169.815 959.489 167.362 960.253 Q164.931 961.016 162.153 962.567 L162.153 957.845 Q164.977 956.711 167.431 956.132 Q169.885 955.554 171.922 955.554 Q177.292 955.554 180.487 958.239 Q183.681 960.924 183.681 965.415 Q183.681 967.544 182.871 969.465 Q182.084 971.364 179.977 973.956 Q179.399 974.627 176.297 977.845 Q173.195 981.039 167.547 986.803 Z\" fill=\"#000000\" fill-rule=\"evenodd\" fill-opacity=\"1\" /><path clip-path=\"url(#clip410)\" d=\"M127.339 723.129 Q123.728 723.129 121.899 726.693 Q120.093 730.235 120.093 737.365 Q120.093 744.471 121.899 748.036 Q123.728 751.578 127.339 751.578 Q130.973 751.578 132.779 748.036 Q134.607 744.471 134.607 737.365 Q134.607 730.235 132.779 726.693 Q130.973 723.129 127.339 723.129 M127.339 719.425 Q133.149 719.425 136.204 724.031 Q139.283 728.615 139.283 737.365 Q139.283 746.091 136.204 750.698 Q133.149 755.281 127.339 755.281 Q121.529 755.281 118.45 750.698 Q115.394 746.091 115.394 737.365 Q115.394 728.615 118.45 724.031 Q121.529 719.425 127.339 719.425 Z\" fill=\"#000000\" fill-rule=\"evenodd\" fill-opacity=\"1\" /><path clip-path=\"url(#clip410)\" d=\"M147.501 748.73 L152.385 748.73 L152.385 754.61 L147.501 754.61 L147.501 748.73 Z\" fill=\"#000000\" fill-rule=\"evenodd\" fill-opacity=\"1\" /><path clip-path=\"url(#clip410)\" d=\"M176.737 735.976 Q180.093 736.693 181.968 738.962 Q183.866 741.23 183.866 744.564 Q183.866 749.679 180.348 752.48 Q176.829 755.281 170.348 755.281 Q168.172 755.281 165.857 754.841 Q163.565 754.425 161.112 753.568 L161.112 749.054 Q163.056 750.189 165.371 750.767 Q167.686 751.346 170.209 751.346 Q174.607 751.346 176.899 749.61 Q179.214 747.874 179.214 744.564 Q179.214 741.508 177.061 739.795 Q174.931 738.059 171.112 738.059 L167.084 738.059 L167.084 734.217 L171.297 734.217 Q174.746 734.217 176.575 732.851 Q178.403 731.462 178.403 728.869 Q178.403 726.207 176.505 724.795 Q174.63 723.36 171.112 723.36 Q169.19 723.36 166.991 723.777 Q164.792 724.193 162.153 725.073 L162.153 720.906 Q164.815 720.166 167.13 719.795 Q169.468 719.425 171.528 719.425 Q176.852 719.425 179.954 721.855 Q183.056 724.263 183.056 728.383 Q183.056 731.254 181.413 733.244 Q179.769 735.212 176.737 735.976 Z\" fill=\"#000000\" fill-rule=\"evenodd\" fill-opacity=\"1\" /><path clip-path=\"url(#clip410)\" d=\"M126.205 487 Q122.593 487 120.765 490.565 Q118.959 494.106 118.959 501.236 Q118.959 508.342 120.765 511.907 Q122.593 515.449 126.205 515.449 Q129.839 515.449 131.644 511.907 Q133.473 508.342 133.473 501.236 Q133.473 494.106 131.644 490.565 Q129.839 487 126.205 487 M126.205 483.296 Q132.015 483.296 135.07 487.903 Q138.149 492.486 138.149 501.236 Q138.149 509.963 135.07 514.569 Q132.015 519.153 126.205 519.153 Q120.394 519.153 117.316 514.569 Q114.26 509.963 114.26 501.236 Q114.26 492.486 117.316 487.903 Q120.394 483.296 126.205 483.296 Z\" fill=\"#000000\" fill-rule=\"evenodd\" fill-opacity=\"1\" /><path clip-path=\"url(#clip410)\" d=\"M146.366 512.602 L151.251 512.602 L151.251 518.481 L146.366 518.481 L146.366 512.602 Z\" fill=\"#000000\" fill-rule=\"evenodd\" fill-opacity=\"1\" /><path clip-path=\"url(#clip410)\" d=\"M174.283 487.995 L162.477 506.444 L174.283 506.444 L174.283 487.995 M173.056 483.921 L178.936 483.921 L178.936 506.444 L183.866 506.444 L183.866 510.333 L178.936 510.333 L178.936 518.481 L174.283 518.481 L174.283 510.333 L158.681 510.333 L158.681 505.819 L173.056 483.921 Z\" fill=\"#000000\" fill-rule=\"evenodd\" fill-opacity=\"1\" /><path clip-path=\"url(#clip410)\" d=\"M127.686 250.871 Q124.075 250.871 122.246 254.436 Q120.441 257.978 120.441 265.107 Q120.441 272.214 122.246 275.779 Q124.075 279.32 127.686 279.32 Q131.32 279.32 133.126 275.779 Q134.954 272.214 134.954 265.107 Q134.954 257.978 133.126 254.436 Q131.32 250.871 127.686 250.871 M127.686 247.168 Q133.496 247.168 136.552 251.774 Q139.63 256.357 139.63 265.107 Q139.63 273.834 136.552 278.441 Q133.496 283.024 127.686 283.024 Q121.876 283.024 118.797 278.441 Q115.742 273.834 115.742 265.107 Q115.742 256.357 118.797 251.774 Q121.876 247.168 127.686 247.168 Z\" fill=\"#000000\" fill-rule=\"evenodd\" fill-opacity=\"1\" /><path clip-path=\"url(#clip410)\" d=\"M147.848 276.473 L152.732 276.473 L152.732 282.353 L147.848 282.353 L147.848 276.473 Z\" fill=\"#000000\" fill-rule=\"evenodd\" fill-opacity=\"1\" /><path clip-path=\"url(#clip410)\" d=\"M162.964 247.793 L181.32 247.793 L181.32 251.728 L167.246 251.728 L167.246 260.2 Q168.264 259.853 169.283 259.691 Q170.302 259.506 171.32 259.506 Q177.107 259.506 180.487 262.677 Q183.866 265.848 183.866 271.265 Q183.866 276.843 180.394 279.945 Q176.922 283.024 170.602 283.024 Q168.427 283.024 166.158 282.654 Q163.913 282.283 161.505 281.543 L161.505 276.843 Q163.589 277.978 165.811 278.533 Q168.033 279.089 170.51 279.089 Q174.514 279.089 176.852 276.982 Q179.19 274.876 179.19 271.265 Q179.19 267.654 176.852 265.547 Q174.514 263.441 170.51 263.441 Q168.635 263.441 166.76 263.857 Q164.908 264.274 162.964 265.154 L162.964 247.793 Z\" fill=\"#000000\" fill-rule=\"evenodd\" fill-opacity=\"1\" /><path clip-path=\"url(#clip410)\" d=\"M16.4842 931.049 L16.4842 903.741 L21.895 903.741 L21.895 924.62 L35.8996 924.62 L35.8996 905.778 L41.3104 905.778 L41.3104 924.62 L64.0042 924.62 L64.0042 931.049 L16.4842 931.049 Z\" fill=\"#000000\" fill-rule=\"evenodd\" fill-opacity=\"1\" /><path clip-path=\"url(#clip410)\" d=\"M33.8307 877.896 Q33.2578 878.882 33.0032 880.06 Q32.7167 881.206 32.7167 882.606 Q32.7167 887.572 35.9632 890.245 Q39.1779 892.887 45.2253 892.887 L64.0042 892.887 L64.0042 898.775 L28.3562 898.775 L28.3562 892.887 L33.8944 892.887 Q30.6479 891.041 29.0883 888.081 Q27.4968 885.121 27.4968 880.888 Q27.4968 880.283 27.5923 879.551 Q27.656 878.819 27.8151 877.928 L33.8307 877.896 Z\" fill=\"#000000\" fill-rule=\"evenodd\" fill-opacity=\"1\" /><path clip-path=\"url(#clip410)\" d=\"M44.7161 842.693 L47.5806 842.693 L47.5806 869.62 Q53.6281 869.238 56.8109 865.992 Q59.9619 862.714 59.9619 856.889 Q59.9619 853.515 59.1344 850.364 Q58.3069 847.181 56.6518 844.062 L62.1899 844.062 Q63.5267 847.213 64.227 850.523 Q64.9272 853.833 64.9272 857.239 Q64.9272 865.769 59.9619 870.766 Q54.9967 875.731 46.5303 875.731 Q37.7774 875.731 32.6531 871.021 Q27.4968 866.278 27.4968 858.258 Q27.4968 851.064 32.1438 846.895 Q36.7589 842.693 44.7161 842.693 M42.9973 848.55 Q38.1912 848.613 35.3266 851.255 Q32.4621 853.865 32.4621 858.194 Q32.4621 863.095 35.2312 866.056 Q38.0002 868.984 43.0292 869.429 L42.9973 848.55 Z\" fill=\"#000000\" fill-rule=\"evenodd\" fill-opacity=\"1\" /><path clip-path=\"url(#clip410)\" d=\"M46.212 829.58 Q52.6732 829.58 56.3653 826.938 Q60.0256 824.265 60.0256 819.618 Q60.0256 814.971 56.3653 812.297 Q52.6732 809.624 46.212 809.624 Q39.7508 809.624 36.0905 812.297 Q32.3984 814.971 32.3984 819.618 Q32.3984 824.265 36.0905 826.938 Q39.7508 829.58 46.212 829.58 M58.657 809.624 Q61.8398 811.47 63.3994 814.302 Q64.9272 817.103 64.9272 821.05 Q64.9272 827.511 59.771 831.585 Q54.6147 835.627 46.212 835.627 Q37.8093 835.627 32.6531 831.585 Q27.4968 827.511 27.4968 821.05 Q27.4968 817.103 29.0564 814.302 Q30.5842 811.47 33.7671 809.624 L28.3562 809.624 L28.3562 803.767 L77.5631 803.767 L77.5631 809.624 L58.657 809.624 Z\" fill=\"#000000\" fill-rule=\"evenodd\" fill-opacity=\"1\" /><path clip-path=\"url(#clip410)\" d=\"M49.9359 792.309 L28.3562 792.309 L28.3562 786.452 L49.7131 786.452 Q54.7739 786.452 57.3202 784.479 Q59.8346 782.506 59.8346 778.559 Q59.8346 773.816 56.8109 771.079 Q53.7872 768.31 48.5673 768.31 L28.3562 768.31 L28.3562 762.454 L64.0042 762.454 L64.0042 768.31 L58.5296 768.31 Q61.7762 770.443 63.3676 773.275 Q64.9272 776.076 64.9272 779.8 Q64.9272 785.943 61.1078 789.126 Q57.2883 792.309 49.9359 792.309 M27.4968 777.572 L27.4968 777.572 Z\" fill=\"#000000\" fill-rule=\"evenodd\" fill-opacity=\"1\" /><path clip-path=\"url(#clip410)\" d=\"M44.7161 719.899 L47.5806 719.899 L47.5806 746.826 Q53.6281 746.444 56.8109 743.197 Q59.9619 739.919 59.9619 734.094 Q59.9619 730.721 59.1344 727.57 Q58.3069 724.387 56.6518 721.268 L62.1899 721.268 Q63.5267 724.419 64.227 727.729 Q64.9272 731.039 64.9272 734.445 Q64.9272 742.975 59.9619 747.972 Q54.9967 752.937 46.5303 752.937 Q37.7774 752.937 32.6531 748.226 Q27.4968 743.484 27.4968 735.463 Q27.4968 728.27 32.1438 724.1 Q36.7589 719.899 44.7161 719.899 M42.9973 725.755 Q38.1912 725.819 35.3266 728.461 Q32.4621 731.071 32.4621 735.399 Q32.4621 740.301 35.2312 743.261 Q38.0002 746.189 43.0292 746.635 L42.9973 725.755 Z\" fill=\"#000000\" fill-rule=\"evenodd\" fill-opacity=\"1\" /><path clip-path=\"url(#clip410)\" d=\"M42.4881 680.654 L64.0042 680.654 L64.0042 686.511 L42.679 686.511 Q37.6183 686.511 35.1038 688.484 Q32.5894 690.458 32.5894 694.404 Q32.5894 699.147 35.6131 701.884 Q38.6368 704.621 43.8567 704.621 L64.0042 704.621 L64.0042 710.509 L28.3562 710.509 L28.3562 704.621 L33.8944 704.621 Q30.6797 702.521 29.0883 699.688 Q27.4968 696.823 27.4968 693.099 Q27.4968 686.956 31.3163 683.805 Q35.1038 680.654 42.4881 680.654 Z\" fill=\"#000000\" fill-rule=\"evenodd\" fill-opacity=\"1\" /><path clip-path=\"url(#clip410)\" d=\"M29.7248 643.319 L35.1993 643.319 Q33.8307 645.802 33.1623 648.317 Q32.4621 650.799 32.4621 653.345 Q32.4621 659.043 36.0905 662.194 Q39.6872 665.345 46.212 665.345 Q52.7369 665.345 56.3653 662.194 Q59.9619 659.043 59.9619 653.345 Q59.9619 650.799 59.2935 648.317 Q58.5933 645.802 57.2247 643.319 L62.6355 643.319 Q63.7814 645.77 64.3543 648.412 Q64.9272 651.022 64.9272 653.982 Q64.9272 662.035 59.8664 666.777 Q54.8057 671.52 46.212 671.52 Q37.491 671.52 32.4939 666.745 Q27.4968 661.939 27.4968 653.6 Q27.4968 650.895 28.0697 648.317 Q28.6108 645.738 29.7248 643.319 Z\" fill=\"#000000\" fill-rule=\"evenodd\" fill-opacity=\"1\" /><path clip-path=\"url(#clip410)\" d=\"M67.3143 618.302 Q73.68 620.785 75.6216 623.14 Q77.5631 625.495 77.5631 629.442 L77.5631 634.121 L72.6615 634.121 L72.6615 630.684 Q72.6615 628.265 71.5157 626.928 Q70.3699 625.591 66.1048 623.968 L63.4312 622.917 L28.3562 637.336 L28.3562 631.129 L56.238 619.989 L28.3562 608.849 L28.3562 602.643 L67.3143 618.302 Z\" fill=\"#000000\" fill-rule=\"evenodd\" fill-opacity=\"1\" /><path clip-path=\"url(#clip412)\" d=\"\nM337.179 87.9763 L337.179 1445.72 L599.009 1445.72 L599.009 87.9763 L337.179 87.9763 L337.179 87.9763  Z\n  \" fill=\"#009af9\" fill-rule=\"evenodd\" fill-opacity=\"1\"/>\n<polyline clip-path=\"url(#clip412)\" style=\"stroke:#000000; stroke-linecap:butt; stroke-linejoin:round; stroke-width:4; stroke-opacity:1; fill:none\" points=\"\n  337.179,87.9763 337.179,1445.72 599.009,1445.72 599.009,87.9763 337.179,87.9763 \n  \"/>\n<path clip-path=\"url(#clip412)\" d=\"\nM664.466 834.143 L664.466 1445.72 L926.295 1445.72 L926.295 834.143 L664.466 834.143 L664.466 834.143  Z\n  \" fill=\"#009af9\" fill-rule=\"evenodd\" fill-opacity=\"1\"/>\n<polyline clip-path=\"url(#clip412)\" style=\"stroke:#000000; stroke-linecap:butt; stroke-linejoin:round; stroke-width:4; stroke-opacity:1; fill:none\" points=\"\n  664.466,834.143 664.466,1445.72 926.295,1445.72 926.295,834.143 664.466,834.143 \n  \"/>\n<path clip-path=\"url(#clip412)\" d=\"\nM991.753 1202.5 L991.753 1445.72 L1253.58 1445.72 L1253.58 1202.5 L991.753 1202.5 L991.753 1202.5  Z\n  \" fill=\"#009af9\" fill-rule=\"evenodd\" fill-opacity=\"1\"/>\n<polyline clip-path=\"url(#clip412)\" style=\"stroke:#000000; stroke-linecap:butt; stroke-linejoin:round; stroke-width:4; stroke-opacity:1; fill:none\" points=\"\n  991.753,1202.5 991.753,1445.72 1253.58,1445.72 1253.58,1202.5 991.753,1202.5 \n  \"/>\n<path clip-path=\"url(#clip412)\" d=\"\nM1319.04 1360.71 L1319.04 1445.72 L1580.87 1445.72 L1580.87 1360.71 L1319.04 1360.71 L1319.04 1360.71  Z\n  \" fill=\"#009af9\" fill-rule=\"evenodd\" fill-opacity=\"1\"/>\n<polyline clip-path=\"url(#clip412)\" style=\"stroke:#000000; stroke-linecap:butt; stroke-linejoin:round; stroke-width:4; stroke-opacity:1; fill:none\" points=\"\n  1319.04,1360.71 1319.04,1445.72 1580.87,1445.72 1580.87,1360.71 1319.04,1360.71 \n  \"/>\n<path clip-path=\"url(#clip412)\" d=\"\nM1646.33 1396.13 L1646.33 1445.72 L1908.16 1445.72 L1908.16 1396.13 L1646.33 1396.13 L1646.33 1396.13  Z\n  \" fill=\"#009af9\" fill-rule=\"evenodd\" fill-opacity=\"1\"/>\n<polyline clip-path=\"url(#clip412)\" style=\"stroke:#000000; stroke-linecap:butt; stroke-linejoin:round; stroke-width:4; stroke-opacity:1; fill:none\" points=\"\n  1646.33,1396.13 1646.33,1445.72 1908.16,1445.72 1908.16,1396.13 1646.33,1396.13 \n  \"/>\n<path clip-path=\"url(#clip412)\" d=\"\nM1973.61 1431.55 L1973.61 1445.72 L2235.44 1445.72 L2235.44 1431.55 L1973.61 1431.55 L1973.61 1431.55  Z\n  \" fill=\"#009af9\" fill-rule=\"evenodd\" fill-opacity=\"1\"/>\n<polyline clip-path=\"url(#clip412)\" style=\"stroke:#000000; stroke-linecap:butt; stroke-linejoin:round; stroke-width:4; stroke-opacity:1; fill:none\" points=\"\n  1973.61,1431.55 1973.61,1445.72 2235.44,1445.72 2235.44,1431.55 1973.61,1431.55 \n  \"/>\n<path clip-path=\"url(#clip410)\" d=\"\nM1992.24 198.898 L2281.66 198.898 L2281.66 95.2176 L1992.24 95.2176  Z\n  \" fill=\"#ffffff\" fill-rule=\"evenodd\" fill-opacity=\"1\"/>\n<polyline clip-path=\"url(#clip410)\" style=\"stroke:#000000; stroke-linecap:butt; stroke-linejoin:round; stroke-width:4; stroke-opacity:1; fill:none\" points=\"\n  1992.24,198.898 2281.66,198.898 2281.66,95.2176 1992.24,95.2176 1992.24,198.898 \n  \"/>\n<path clip-path=\"url(#clip410)\" d=\"\nM2015.94 167.794 L2158.13 167.794 L2158.13 126.322 L2015.94 126.322 L2015.94 167.794  Z\n  \" fill=\"#009af9\" fill-rule=\"evenodd\" fill-opacity=\"1\"/>\n<polyline clip-path=\"url(#clip410)\" style=\"stroke:#000000; stroke-linecap:butt; stroke-linejoin:round; stroke-width:4; stroke-opacity:1; fill:none\" points=\"\n  2015.94,167.794 2158.13,167.794 2158.13,126.322 2015.94,126.322 2015.94,167.794 \n  \"/>\n<path clip-path=\"url(#clip410)\" d=\"M2195.67 166.745 Q2193.87 171.375 2192.16 172.787 Q2190.44 174.199 2187.57 174.199 L2184.17 174.199 L2184.17 170.634 L2186.67 170.634 Q2188.43 170.634 2189.4 169.8 Q2190.37 168.967 2191.55 165.865 L2192.32 163.921 L2181.83 138.412 L2186.35 138.412 L2194.45 158.689 L2202.55 138.412 L2207.06 138.412 L2195.67 166.745 Z\" fill=\"#000000\" fill-rule=\"evenodd\" fill-opacity=\"1\" /><path clip-path=\"url(#clip410)\" d=\"M2214.35 160.402 L2221.99 160.402 L2221.99 134.037 L2213.68 135.703 L2213.68 131.444 L2221.95 129.778 L2226.62 129.778 L2226.62 160.402 L2234.26 160.402 L2234.26 164.338 L2214.35 164.338 L2214.35 160.402 Z\" fill=\"#000000\" fill-rule=\"evenodd\" fill-opacity=\"1\" /></svg>\n"
     },
     "metadata": {},
     "execution_count": 19
    }
   ],
   "metadata": {}
  },
  {
   "cell_type": "markdown",
   "source": [
    "There is no upper bound on how long the computation can go on, although the probability of reaching some number declines quickly as we go. Indeed, stochastic recursions must be constructed to halt eventually (with probability 1)."
   ],
   "metadata": {}
  },
  {
   "cell_type": "markdown",
   "source": [
    "### Persistent Randomness: `Memoize`\r\n",
    "It is often useful to model a set of objects that each have a randomly chosen property. For instance, describing the eye colors of a set of people:"
   ],
   "metadata": {}
  },
  {
   "cell_type": "code",
   "execution_count": null,
   "source": [
    "@gen function eyeColor(person)\r\n",
    "    colors= [\"blue\", \"green\", \"brown\"]\r\n",
    "    i =@trace(uniform_discrete(1, 3), :i)\r\n",
    "    colors[i]    \r\n",
    "end\r\n",
    "[eyeColor(\"bob\"), eyeColor(\"alice\"), eyeColor(\"bob\")]"
   ],
   "outputs": [],
   "metadata": {}
  },
  {
   "cell_type": "markdown",
   "source": [
    "The results of this generative process are clearly wrong: Bob's eye color can change each time we ask about it! What we want is a model in which eye color is random, but persistent. We can do this using a Julia package: `Memoize`. `@memoize` is a macro that can be applied to a procedure and produces a memoized version of the procedure. When a stochastic procedure is memoized, it will sample a random value the first time it is used with some arguments, but return that same value when called with those arguments thereafter. The resulting memoized procedure has a persistent value within each \"run\" of the generative model (or simulated world). For instance consider the equality of two flips, and the equality of two memoized flips:"
   ],
   "metadata": {}
  },
  {
   "cell_type": "markdown",
   "source": [],
   "metadata": {}
  },
  {
   "cell_type": "code",
   "execution_count": null,
   "source": [
    "bernoulli(0.5) == bernoulli(0.5)"
   ],
   "outputs": [],
   "metadata": {}
  },
  {
   "cell_type": "code",
   "execution_count": null,
   "source": [
    "using Memoize\r\n",
    "@memoize function ber()\r\n",
    "    bernoulli(0.5)\r\n",
    "end\r\n",
    "\r\n",
    "ber()==ber()"
   ],
   "outputs": [],
   "metadata": {}
  },
  {
   "cell_type": "markdown",
   "source": [
    "Now returning to the eye color example, we can represent the notion that eye color is random, but each person has a fixed eye color."
   ],
   "metadata": {}
  },
  {
   "cell_type": "code",
   "execution_count": null,
   "source": [
    "@memoize function eyeColor2(person::String)\r\n",
    "   simulate( eyeColor,(person,))    \r\n",
    "end\r\n",
    "\r\n",
    "[get_retval(eyeColor2(\"bob\")), get_retval(eyeColor2(\"alice\")), get_retval(eyeColor2(\"bob\"))]"
   ],
   "outputs": [],
   "metadata": {}
  },
  {
   "cell_type": "markdown",
   "source": [
    "This type of modeling is called *random world* style (McAllester et al., 2008). Note that we don't have to specify ahead of time the people whose eye color we will ask about: the distribution on eye colors is implicitly defined over the infinite set of possible people, but only constructed \"lazily\" when needed. Memoizing stochastic functions thus provides a powerful toolkit to represent and reason about an unbounded set of properties of an unbounded set of objects. For instance, here we define a function `flipAlot` that maps from an integer (or any other value) to a coin flip. We could use it to implicitly represent the *n*th flip of a particular coin, without having to actually flip the coin *n* times."
   ],
   "metadata": {}
  },
  {
   "cell_type": "code",
   "execution_count": null,
   "source": [
    "@memoize function flipAlot(n)\r\n",
    "    bernoulli(0.5)\r\n",
    "end\r\n",
    "[flipAlot(1) flipAlot(12) flipAlot(47) flipAlot(1548);flipAlot(1) flipAlot(12) flipAlot(47) flipAlot(1548)]"
   ],
   "outputs": [],
   "metadata": {}
  },
  {
   "cell_type": "markdown",
   "source": [
    "There are a countably infinite number of such flips, each independent of all the others. The outcome of each, once determined, will always have the same value.\r\n",
    "\r\n",
    "In computer science memoization is an important technique for optimizing programs by avoiding repeated work. In the probabilistic setting, such as in Julia and Gen, memoization actually affects the meaning of the memoized function."
   ],
   "metadata": {}
  }
 ],
 "metadata": {
  "kernelspec": {
   "display_name": "Julia 1.6.2",
   "language": "julia",
   "name": "julia-1.6"
  },
  "language_info": {
   "file_extension": ".jl",
   "name": "julia",
   "mimetype": "application/julia",
   "version": "1.6.2"
  }
 },
 "nbformat": 4,
 "nbformat_minor": 5
}